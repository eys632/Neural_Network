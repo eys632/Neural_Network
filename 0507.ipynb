{
 "cells": [
  {
   "cell_type": "code",
   "execution_count": null,
   "id": "914d08c5",
   "metadata": {},
   "outputs": [],
   "source": [
    "import numpy as np\n",
    "\n",
    "class MeanSquaredError:\n",
    "    def __init__(self):\n",
    "        self.y = None\n",
    "        self.t = None\n",
    "\n",
    "    def forward(self, y, t):\n",
    "        self.y = y\n",
    "        self.t = t\n",
    "        return ((y - t) ** 2)*0.5\n",
    "\n",
    "    def backword(self, dout=1):\n",
    "        return (self.y - self.t) * dout"
   ]
  },
  {
   "cell_type": "code",
   "execution_count": 4,
   "id": "0e830ac0",
   "metadata": {},
   "outputs": [
    {
     "ename": "NameError",
     "evalue": "name 'LinearModel' is not defined",
     "output_type": "error",
     "traceback": [
      "\u001b[1;31m---------------------------------------------------------------------------\u001b[0m",
      "\u001b[1;31mNameError\u001b[0m                                 Traceback (most recent call last)",
      "Cell \u001b[1;32mIn[4], line 4\u001b[0m\n\u001b[0;32m      1\u001b[0m x \u001b[38;5;241m=\u001b[39m \u001b[38;5;241m2\u001b[39m\n\u001b[0;32m      2\u001b[0m t \u001b[38;5;241m=\u001b[39m \u001b[38;5;241m1\u001b[39m\n\u001b[1;32m----> 4\u001b[0m model \u001b[38;5;241m=\u001b[39m LinearModel()\n\u001b[0;32m      5\u001b[0m y \u001b[38;5;241m=\u001b[39m model\u001b[38;5;241m.\u001b[39mforward(x)\n\u001b[0;32m      6\u001b[0m \u001b[38;5;28mprint\u001b[39m(y)\n",
      "\u001b[1;31mNameError\u001b[0m: name 'LinearModel' is not defined"
     ]
    }
   ],
   "source": [
    "x = 2\n",
    "t = 1\n",
    "\n",
    "model = LinearModel()\n",
    "y = model.forward(x)\n",
    "print(y)\n",
    "\n",
    "mse = MeanSquaredError()\n",
    "loss = mse.forward(y, t)\n",
    "print(\"Loss:\", loss)"
   ]
  },
  {
   "cell_type": "code",
   "execution_count": null,
   "id": "1fdf0516",
   "metadata": {},
   "outputs": [
    {
     "ename": "NameError",
     "evalue": "name 'mse' is not defined",
     "output_type": "error",
     "traceback": [
      "\u001b[1;31m---------------------------------------------------------------------------\u001b[0m",
      "\u001b[1;31mNameError\u001b[0m                                 Traceback (most recent call last)",
      "Cell \u001b[1;32mIn[5], line 1\u001b[0m\n\u001b[1;32m----> 1\u001b[0m dout \u001b[38;5;241m=\u001b[39m mse\u001b[38;5;241m.\u001b[39mbackword()\n\u001b[0;32m      2\u001b[0m \u001b[38;5;28mprint\u001b[39m(dout)\n\u001b[0;32m      4\u001b[0m dx, dw, db \u001b[38;5;241m=\u001b[39m model\u001b[38;5;241m.\u001b[39mbackword(dout)\n",
      "\u001b[1;31mNameError\u001b[0m: name 'mse' is not defined"
     ]
    }
   ],
   "source": [
    "dout = mse.backword()\n",
    "print(dout)\n",
    "\n",
    "dx, dw, db = model.backword(dout)\n",
    "print(\"dx:\", dx)\n",
    "print(\"dw:\", dw)\n",
    "print(\"db:\", db)"
   ]
  },
  {
   "cell_type": "code",
   "execution_count": null,
   "id": "17e0ddf4",
   "metadata": {},
   "outputs": [],
   "source": []
  },
  {
   "cell_type": "code",
   "execution_count": 6,
   "id": "1a11c151",
   "metadata": {},
   "outputs": [
    {
     "ename": "NameError",
     "evalue": "name 'LinearModel' is not defined",
     "output_type": "error",
     "traceback": [
      "\u001b[1;31m---------------------------------------------------------------------------\u001b[0m",
      "\u001b[1;31mNameError\u001b[0m                                 Traceback (most recent call last)",
      "Cell \u001b[1;32mIn[6], line 5\u001b[0m\n\u001b[0;32m      2\u001b[0m t \u001b[38;5;241m=\u001b[39m \u001b[38;5;241m1\u001b[39m\n\u001b[0;32m      3\u001b[0m lr \u001b[38;5;241m=\u001b[39m \u001b[38;5;241m0.01\u001b[39m\n\u001b[1;32m----> 5\u001b[0m model \u001b[38;5;241m=\u001b[39m LinearModel()\n\u001b[0;32m      6\u001b[0m mse \u001b[38;5;241m=\u001b[39m MeanSquaredError()\n\u001b[0;32m      8\u001b[0m \u001b[38;5;28mprint\u001b[39m(model\u001b[38;5;241m.\u001b[39mw)\n",
      "\u001b[1;31mNameError\u001b[0m: name 'LinearModel' is not defined"
     ]
    }
   ],
   "source": [
    "x = 2\n",
    "t = 1\n",
    "lr = 0.01\n",
    "\n",
    "model = LinearModel()\n",
    "mse = MeanSquaredError()\n",
    "\n",
    "print(model.w)\n",
    "print(model.b)"
   ]
  },
  {
   "cell_type": "code",
   "execution_count": 7,
   "id": "caad0358",
   "metadata": {},
   "outputs": [
    {
     "ename": "NameError",
     "evalue": "name 'model' is not defined",
     "output_type": "error",
     "traceback": [
      "\u001b[1;31m---------------------------------------------------------------------------\u001b[0m",
      "\u001b[1;31mNameError\u001b[0m                                 Traceback (most recent call last)",
      "Cell \u001b[1;32mIn[7], line 1\u001b[0m\n\u001b[1;32m----> 1\u001b[0m out \u001b[38;5;241m=\u001b[39m model\u001b[38;5;241m.\u001b[39mforward(x)\n\u001b[0;32m      2\u001b[0m \u001b[38;5;28mprint\u001b[39m(out)\n\u001b[0;32m      4\u001b[0m mse\u001b[38;5;241m.\u001b[39mforward(y\u001b[38;5;241m=\u001b[39mout, t\u001b[38;5;241m=\u001b[39mt)\n",
      "\u001b[1;31mNameError\u001b[0m: name 'model' is not defined"
     ]
    }
   ],
   "source": [
    "out = model.forward(x)\n",
    "print(out)\n",
    "\n",
    "mse.forward(y=out, t=t)\n",
    "print(out)"
   ]
  },
  {
   "cell_type": "code",
   "execution_count": 8,
   "id": "74df97d5",
   "metadata": {},
   "outputs": [
    {
     "ename": "NameError",
     "evalue": "name 'mse' is not defined",
     "output_type": "error",
     "traceback": [
      "\u001b[1;31m---------------------------------------------------------------------------\u001b[0m",
      "\u001b[1;31mNameError\u001b[0m                                 Traceback (most recent call last)",
      "Cell \u001b[1;32mIn[8], line 1\u001b[0m\n\u001b[1;32m----> 1\u001b[0m dout \u001b[38;5;241m=\u001b[39m mse\u001b[38;5;241m.\u001b[39mbackword()\n\u001b[0;32m      2\u001b[0m \u001b[38;5;28mprint\u001b[39m(dout)\n\u001b[0;32m      4\u001b[0m dx, dw, db \u001b[38;5;241m=\u001b[39m model\u001b[38;5;241m.\u001b[39mbackward(dout\u001b[38;5;241m=\u001b[39mdout)\n",
      "\u001b[1;31mNameError\u001b[0m: name 'mse' is not defined"
     ]
    }
   ],
   "source": [
    "dout = mse.backword()\n",
    "print(dout)\n",
    "\n",
    "dx, dw, db = model.backward(dout=dout)\n",
    "print(\"dx:\", dx)\n",
    "print(\"dw:\", dw)\n",
    "print(\"db:\", db)"
   ]
  },
  {
   "cell_type": "code",
   "execution_count": 9,
   "id": "5ad671f8",
   "metadata": {},
   "outputs": [
    {
     "ename": "NameError",
     "evalue": "name 'model' is not defined",
     "output_type": "error",
     "traceback": [
      "\u001b[1;31m---------------------------------------------------------------------------\u001b[0m",
      "\u001b[1;31mNameError\u001b[0m                                 Traceback (most recent call last)",
      "Cell \u001b[1;32mIn[9], line 1\u001b[0m\n\u001b[1;32m----> 1\u001b[0m model\u001b[38;5;241m.\u001b[39mw \u001b[38;5;241m=\u001b[39m model\u001b[38;5;241m.\u001b[39mw \u001b[38;5;241m-\u001b[39m lr \u001b[38;5;241m*\u001b[39m dw\n\u001b[0;32m      2\u001b[0m model\u001b[38;5;241m.\u001b[39mb \u001b[38;5;241m=\u001b[39m model\u001b[38;5;241m.\u001b[39mb \u001b[38;5;241m-\u001b[39m lr \u001b[38;5;241m*\u001b[39m db\n\u001b[0;32m      3\u001b[0m \u001b[38;5;28mprint\u001b[39m(model\u001b[38;5;241m.\u001b[39mw)\n",
      "\u001b[1;31mNameError\u001b[0m: name 'model' is not defined"
     ]
    }
   ],
   "source": [
    "model.w = model.w - lr * dw\n",
    "model.b = model.b - lr * db\n",
    "print(model.w)\n",
    "print(model.b)"
   ]
  },
  {
   "cell_type": "code",
   "execution_count": 10,
   "id": "f791c9fb",
   "metadata": {},
   "outputs": [
    {
     "ename": "NameError",
     "evalue": "name 'model' is not defined",
     "output_type": "error",
     "traceback": [
      "\u001b[1;31m---------------------------------------------------------------------------\u001b[0m",
      "\u001b[1;31mNameError\u001b[0m                                 Traceback (most recent call last)",
      "Cell \u001b[1;32mIn[10], line 1\u001b[0m\n\u001b[1;32m----> 1\u001b[0m out \u001b[38;5;241m=\u001b[39m model\u001b[38;5;241m.\u001b[39mforward(x)\n\u001b[0;32m      2\u001b[0m \u001b[38;5;28mprint\u001b[39m(out)\n\u001b[0;32m      4\u001b[0m out \u001b[38;5;241m=\u001b[39m model\u001b[38;5;241m.\u001b[39mforward(y\u001b[38;5;241m=\u001b[39mout, t\u001b[38;5;241m=\u001b[39mt)\n",
      "\u001b[1;31mNameError\u001b[0m: name 'model' is not defined"
     ]
    }
   ],
   "source": [
    "out = model.forward(x)\n",
    "print(out)\n",
    "\n",
    "out = model.forward(y=out, t=t)\n",
    "print(out)"
   ]
  },
  {
   "cell_type": "code",
   "execution_count": 12,
   "id": "fefceafe",
   "metadata": {},
   "outputs": [
    {
     "ename": "NameError",
     "evalue": "name 'LinearModel' is not defined",
     "output_type": "error",
     "traceback": [
      "\u001b[1;31m---------------------------------------------------------------------------\u001b[0m",
      "\u001b[1;31mNameError\u001b[0m                                 Traceback (most recent call last)",
      "Cell \u001b[1;32mIn[12], line 5\u001b[0m\n\u001b[0;32m      2\u001b[0m t \u001b[38;5;241m=\u001b[39m \u001b[38;5;241m1\u001b[39m\n\u001b[0;32m      3\u001b[0m lr \u001b[38;5;241m=\u001b[39m \u001b[38;5;241m0.01\u001b[39m\n\u001b[1;32m----> 5\u001b[0m model \u001b[38;5;241m=\u001b[39m LinearModel()\n\u001b[0;32m      6\u001b[0m mse \u001b[38;5;241m=\u001b[39m MeanSquaredError()\n",
      "\u001b[1;31mNameError\u001b[0m: name 'LinearModel' is not defined"
     ]
    }
   ],
   "source": [
    "x = 2\n",
    "t = 1\n",
    "lr = 0.01\n",
    "\n",
    "model = LinearModel()\n",
    "mse = MeanSquaredError()"
   ]
  },
  {
   "cell_type": "code",
   "execution_count": 13,
   "id": "523bedaf",
   "metadata": {},
   "outputs": [
    {
     "ename": "NameError",
     "evalue": "name 'model' is not defined",
     "output_type": "error",
     "traceback": [
      "\u001b[1;31m---------------------------------------------------------------------------\u001b[0m",
      "\u001b[1;31mNameError\u001b[0m                                 Traceback (most recent call last)",
      "Cell \u001b[1;32mIn[13], line 2\u001b[0m\n\u001b[0;32m      1\u001b[0m \u001b[38;5;28;01mfor\u001b[39;00m i \u001b[38;5;129;01min\u001b[39;00m \u001b[38;5;28mrange\u001b[39m(\u001b[38;5;241m100\u001b[39m):\n\u001b[1;32m----> 2\u001b[0m     out \u001b[38;5;241m=\u001b[39m model\u001b[38;5;241m.\u001b[39mforward(x)\n\u001b[0;32m      3\u001b[0m     \u001b[38;5;28mprint\u001b[39m(\u001b[38;5;124m\"\u001b[39m\u001b[38;5;132;01m{}\u001b[39;00m\u001b[38;5;124m번째 전파 출력값 : \u001b[39m\u001b[38;5;132;01m{}\u001b[39;00m\u001b[38;5;124m\"\u001b[39m\u001b[38;5;241m.\u001b[39mformet(i, out))\n\u001b[0;32m      5\u001b[0m     out \u001b[38;5;241m=\u001b[39m mse\u001b[38;5;241m.\u001b[39mforward(y\u001b[38;5;241m=\u001b[39mout, t\u001b[38;5;241m=\u001b[39mt)\n",
      "\u001b[1;31mNameError\u001b[0m: name 'model' is not defined"
     ]
    }
   ],
   "source": [
    "for i in range(100):\n",
    "    out = model.forward(x)\n",
    "    print(\"{}번째 전파 출력값 : {}\".formet(i, out))\n",
    "\n",
    "    out = mse.forward(y=out, t=t)\n",
    "    print(\"{}번째 손실함수 출력값 : {}\".format(i, out))\n",
    "\n",
    "    dout = mse.backword()\n",
    "    dx, dw, db = model.backward(dout=dout)\n",
    "\n",
    "    model.w -= lr * dw\n",
    "    model.b -= lr * db\n",
    "    print(\"{}번째 가중치 : {}\".format(i, model.w))"
   ]
  }
 ],
 "metadata": {
  "kernelspec": {
   "display_name": "base",
   "language": "python",
   "name": "python3"
  },
  "language_info": {
   "codemirror_mode": {
    "name": "ipython",
    "version": 3
   },
   "file_extension": ".py",
   "mimetype": "text/x-python",
   "name": "python",
   "nbconvert_exporter": "python",
   "pygments_lexer": "ipython3",
   "version": "3.12.7"
  }
 },
 "nbformat": 4,
 "nbformat_minor": 5
}
