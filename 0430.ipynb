{
 "cells": [
  {
   "cell_type": "code",
   "execution_count": null,
   "id": "3e0cc41a",
   "metadata": {},
   "outputs": [],
   "source": []
  },
  {
   "cell_type": "code",
   "execution_count": 37,
   "id": "c8710e73",
   "metadata": {},
   "outputs": [],
   "source": [
    "class Counter:\n",
    "    def __init__(self):\n",
    "        self.count=0\n",
    "        #pass  # count 값을 0으로 초기화\n",
    "\n",
    "    def increment(self):\n",
    "        self.count += 1\n",
    "        #pass  # count를 1 증가시키기\n",
    "        return self.count  # 증가된 count 값을 반환\n",
    "    \n",
    "    def reset(self):\n",
    "        self.count = 0\n",
    "        #pass  # count를 0으로 재설정\n",
    "\n",
    "    def get(self):\n",
    "        return self.count  # 현재 count 값을 반환"
   ]
  },
  {
   "cell_type": "code",
   "execution_count": 43,
   "id": "ed91ebf1",
   "metadata": {},
   "outputs": [
    {
     "name": "stdout",
     "output_type": "stream",
     "text": [
      "3\n",
      "3\n"
     ]
    }
   ],
   "source": [
    "c = Counter()\n",
    "c.count\n",
    "c.increment()\n",
    "c.increment()\n",
    "print(c.increment())\n",
    "print(c.count)"
   ]
  },
  {
   "cell_type": "code",
   "execution_count": 48,
   "id": "6f776604",
   "metadata": {},
   "outputs": [
    {
     "name": "stdout",
     "output_type": "stream",
     "text": [
      "0\n",
      "1\n",
      "0\n"
     ]
    }
   ],
   "source": [
    "c = Counter()\n",
    "count = c.get()\n",
    "print(count)\n",
    "c.increment()\n",
    "count = c.get()\n",
    "print(count)\n",
    "c.reset()\n",
    "count = c.get()\n",
    "print(count)"
   ]
  },
  {
   "cell_type": "code",
   "execution_count": null,
   "id": "8c2c59e2",
   "metadata": {},
   "outputs": [],
   "source": []
  },
  {
   "cell_type": "code",
   "execution_count": 30,
   "id": "ff338b86",
   "metadata": {},
   "outputs": [],
   "source": [
    "def 인사():\n",
    "    return print(\"Hello\")"
   ]
  },
  {
   "cell_type": "code",
   "execution_count": 33,
   "id": "5694a745",
   "metadata": {},
   "outputs": [
    {
     "name": "stdout",
     "output_type": "stream",
     "text": [
      "Hello\n"
     ]
    }
   ],
   "source": [
    "h = 인사()"
   ]
  },
  {
   "cell_type": "code",
   "execution_count": 32,
   "id": "2f40202a",
   "metadata": {},
   "outputs": [
    {
     "name": "stdout",
     "output_type": "stream",
     "text": [
      "Hello\n"
     ]
    }
   ],
   "source": [
    "인사()"
   ]
  },
  {
   "cell_type": "code",
   "execution_count": 36,
   "id": "bb4dff31",
   "metadata": {},
   "outputs": [
    {
     "ename": "AttributeError",
     "evalue": "'NoneType' object has no attribute 'self'",
     "output_type": "error",
     "traceback": [
      "\u001b[1;31m---------------------------------------------------------------------------\u001b[0m",
      "\u001b[1;31mAttributeError\u001b[0m                            Traceback (most recent call last)",
      "Cell \u001b[1;32mIn[36], line 1\u001b[0m\n\u001b[1;32m----> 1\u001b[0m h\u001b[38;5;241m.\u001b[39mself\n",
      "\u001b[1;31mAttributeError\u001b[0m: 'NoneType' object has no attribute 'self'"
     ]
    }
   ],
   "source": [
    "h.self"
   ]
  },
  {
   "cell_type": "code",
   "execution_count": null,
   "id": "4a53c5a4",
   "metadata": {},
   "outputs": [],
   "source": []
  }
 ],
 "metadata": {
  "kernelspec": {
   "display_name": "base",
   "language": "python",
   "name": "python3"
  },
  "language_info": {
   "codemirror_mode": {
    "name": "ipython",
    "version": 3
   },
   "file_extension": ".py",
   "mimetype": "text/x-python",
   "name": "python",
   "nbconvert_exporter": "python",
   "pygments_lexer": "ipython3",
   "version": "3.12.7"
  }
 },
 "nbformat": 4,
 "nbformat_minor": 5
}
