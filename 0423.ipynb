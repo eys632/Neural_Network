{
 "cells": [
  {
   "cell_type": "markdown",
   "id": "3a2c6bce",
   "metadata": {},
   "source": [
    "# 딕셔너리"
   ]
  },
  {
   "cell_type": "code",
   "execution_count": 30,
   "id": "0c65e8d6",
   "metadata": {},
   "outputs": [],
   "source": [
    "A = {\"사과\" : \"열매\"}"
   ]
  },
  {
   "cell_type": "code",
   "execution_count": 31,
   "id": "058a7ac4",
   "metadata": {},
   "outputs": [
    {
     "name": "stdout",
     "output_type": "stream",
     "text": [
      "{'사과': '열매'}\n",
      "<class 'dict'>\n"
     ]
    }
   ],
   "source": [
    "print(A)\n",
    "print(type(A))"
   ]
  },
  {
   "cell_type": "code",
   "execution_count": 32,
   "id": "c15a0949",
   "metadata": {},
   "outputs": [
    {
     "data": {
      "text/plain": [
       "dict_keys(['사과'])"
      ]
     },
     "execution_count": 32,
     "metadata": {},
     "output_type": "execute_result"
    }
   ],
   "source": [
    "A.keys()"
   ]
  },
  {
   "cell_type": "code",
   "execution_count": 33,
   "id": "5c4b9cec",
   "metadata": {},
   "outputs": [
    {
     "data": {
      "text/plain": [
       "dict_values(['열매'])"
      ]
     },
     "execution_count": 33,
     "metadata": {},
     "output_type": "execute_result"
    }
   ],
   "source": [
    "A.values()"
   ]
  },
  {
   "cell_type": "code",
   "execution_count": 34,
   "id": "3d4a7886",
   "metadata": {},
   "outputs": [
    {
     "name": "stdout",
     "output_type": "stream",
     "text": [
      "{1: 1}\n",
      "<class 'dict'>\n"
     ]
    }
   ],
   "source": [
    "A = {1 : 1}\n",
    "print(A)\n",
    "print(type(A))"
   ]
  },
  {
   "cell_type": "code",
   "execution_count": 35,
   "id": "2159bdbc",
   "metadata": {},
   "outputs": [
    {
     "name": "stdout",
     "output_type": "stream",
     "text": [
      "{1.0: 1}\n",
      "<class 'dict'>\n"
     ]
    }
   ],
   "source": [
    "A = {1.0 : 1}\n",
    "print(A)\n",
    "print(type(A))"
   ]
  },
  {
   "cell_type": "code",
   "execution_count": 36,
   "id": "17718242",
   "metadata": {},
   "outputs": [
    {
     "data": {
      "text/plain": [
       "dict_keys([1.0])"
      ]
     },
     "execution_count": 36,
     "metadata": {},
     "output_type": "execute_result"
    }
   ],
   "source": [
    "A.keys()"
   ]
  },
  {
   "cell_type": "code",
   "execution_count": 37,
   "id": "3ab8e8d5",
   "metadata": {},
   "outputs": [
    {
     "name": "stdout",
     "output_type": "stream",
     "text": [
      "<class 'complex'>\n"
     ]
    }
   ],
   "source": [
    "print(type(1j))"
   ]
  },
  {
   "cell_type": "code",
   "execution_count": 38,
   "id": "902695c6",
   "metadata": {},
   "outputs": [
    {
     "name": "stdout",
     "output_type": "stream",
     "text": [
      "(-1+0j)\n"
     ]
    }
   ],
   "source": [
    "print(1j * 1j)"
   ]
  },
  {
   "cell_type": "code",
   "execution_count": 39,
   "id": "73d3a882",
   "metadata": {},
   "outputs": [
    {
     "name": "stdout",
     "output_type": "stream",
     "text": [
      "{True: 1}\n",
      "<class 'dict'>\n"
     ]
    }
   ],
   "source": [
    "A = {True : 1}\n",
    "print(A)\n",
    "print(type(A))"
   ]
  },
  {
   "cell_type": "code",
   "execution_count": 40,
   "id": "e54a4a8f",
   "metadata": {},
   "outputs": [
    {
     "data": {
      "text/plain": [
       "dict_keys([True])"
      ]
     },
     "execution_count": 40,
     "metadata": {},
     "output_type": "execute_result"
    }
   ],
   "source": [
    "A.keys()"
   ]
  },
  {
   "cell_type": "code",
   "execution_count": 41,
   "id": "ba5af324",
   "metadata": {},
   "outputs": [],
   "source": [
    "import numpy as np"
   ]
  },
  {
   "cell_type": "code",
   "execution_count": 75,
   "id": "07404b1a",
   "metadata": {},
   "outputs": [
    {
     "name": "stdout",
     "output_type": "stream",
     "text": [
      "[[1 1]\n",
      " [1 1]]\n"
     ]
    }
   ],
   "source": [
    "W = np.array([[1, 1],\n",
    "                [1, 1]])\n",
    "print(W)"
   ]
  },
  {
   "cell_type": "code",
   "execution_count": 76,
   "id": "138c914e",
   "metadata": {},
   "outputs": [
    {
     "name": "stdout",
     "output_type": "stream",
     "text": [
      "{'b': 1}\n",
      "{'a': {'b': 1}}\n"
     ]
    }
   ],
   "source": [
    "b = {'b' : 1}\n",
    "a = {'a' : b}\n",
    "print(b)\n",
    "print(a)"
   ]
  },
  {
   "cell_type": "code",
   "execution_count": 77,
   "id": "4cbbf559",
   "metadata": {},
   "outputs": [
    {
     "data": {
      "text/plain": [
       "dict_keys(['a'])"
      ]
     },
     "execution_count": 77,
     "metadata": {},
     "output_type": "execute_result"
    }
   ],
   "source": [
    "a.keys()"
   ]
  },
  {
   "cell_type": "code",
   "execution_count": 78,
   "id": "7efb2cb0",
   "metadata": {},
   "outputs": [
    {
     "data": {
      "text/plain": [
       "dict_values([{'b': 1}])"
      ]
     },
     "execution_count": 78,
     "metadata": {},
     "output_type": "execute_result"
    }
   ],
   "source": [
    "a.values()"
   ]
  },
  {
   "cell_type": "code",
   "execution_count": 79,
   "id": "7fcf038d",
   "metadata": {},
   "outputs": [
    {
     "name": "stdout",
     "output_type": "stream",
     "text": [
      "{'W': array([[1, 1],\n",
      "       [1, 1]])}\n"
     ]
    }
   ],
   "source": [
    "A = {'W':W}\n",
    "print(A)"
   ]
  },
  {
   "cell_type": "code",
   "execution_count": 80,
   "id": "fc74937c",
   "metadata": {},
   "outputs": [
    {
     "data": {
      "text/plain": [
       "array([[1, 1],\n",
       "       [1, 1]])"
      ]
     },
     "execution_count": 80,
     "metadata": {},
     "output_type": "execute_result"
    }
   ],
   "source": [
    "A['W']"
   ]
  },
  {
   "cell_type": "code",
   "execution_count": 81,
   "id": "7746c792",
   "metadata": {},
   "outputs": [
    {
     "name": "stdout",
     "output_type": "stream",
     "text": [
      "[[0.99 0.99]\n",
      " [0.99 0.99]]\n"
     ]
    }
   ],
   "source": [
    "lr = 0.01\n",
    "A_grad = np.array([[1, 1],\n",
    "                   [1, 1]])\n",
    "A['W'] = A['W'] - lr * A_grad\n",
    "print(A['W'])"
   ]
  },
  {
   "cell_type": "code",
   "execution_count": 68,
   "id": "34097813",
   "metadata": {},
   "outputs": [
    {
     "name": "stdout",
     "output_type": "stream",
     "text": [
      "[-0.53486958 -0.22632471 -1.70860438  0.13219631  1.09690531 -0.31755121\n",
      "  0.67230691 -0.67096629 -1.05242454 -0.12387215]\n"
     ]
    }
   ],
   "source": [
    "w = np.random.randn(10)\n",
    "print(w)"
   ]
  },
  {
   "cell_type": "code",
   "execution_count": 89,
   "id": "3aa28ad4",
   "metadata": {},
   "outputs": [
    {
     "name": "stdout",
     "output_type": "stream",
     "text": [
      "[[ 0.15352545  1.23644483]\n",
      " [-0.71989823 -1.19055697]]\n",
      "(2, 2)\n"
     ]
    }
   ],
   "source": [
    "W1 = np.random.randn(2, 2)\n",
    "print(w1)\n",
    "print(np.shape(w1))"
   ]
  },
  {
   "cell_type": "code",
   "execution_count": 84,
   "id": "668e2a6b",
   "metadata": {},
   "outputs": [
    {
     "name": "stdout",
     "output_type": "stream",
     "text": [
      "[0. 0.]\n"
     ]
    }
   ],
   "source": [
    "b1 = np.zeros(2)\n",
    "print(b1)"
   ]
  },
  {
   "cell_type": "code",
   "execution_count": 85,
   "id": "04988853",
   "metadata": {},
   "outputs": [
    {
     "name": "stdout",
     "output_type": "stream",
     "text": [
      "[[-1.08981195]\n",
      " [ 2.41354454]]\n"
     ]
    }
   ],
   "source": [
    "W2 = np.random.randn(2, 1)\n",
    "print(W2)"
   ]
  },
  {
   "cell_type": "code",
   "execution_count": 87,
   "id": "506b07e2",
   "metadata": {},
   "outputs": [
    {
     "name": "stdout",
     "output_type": "stream",
     "text": [
      "[0.]\n"
     ]
    }
   ],
   "source": [
    "b2 = np.zeros(1)\n",
    "print(b2)"
   ]
  },
  {
   "cell_type": "code",
   "execution_count": 90,
   "id": "a6c0544e",
   "metadata": {},
   "outputs": [
    {
     "name": "stdout",
     "output_type": "stream",
     "text": [
      "{'W1': array([[1.96200805, 0.10129621],\n",
      "       [0.4288531 , 1.26486479]]), 'b1': array([0., 0.]), 'W2': array([[-1.08981195],\n",
      "       [ 2.41354454]]), 'b2': array([0.])}\n"
     ]
    }
   ],
   "source": [
    "A = {'W1' : W1,\n",
    "     'b1' : b1,\n",
    "     'W2' : W2,\n",
    "     'b2' : b2}\n",
    "print(A)"
   ]
  },
  {
   "cell_type": "code",
   "execution_count": 91,
   "id": "062034cb",
   "metadata": {},
   "outputs": [
    {
     "data": {
      "text/plain": [
       "array([[1.96200805, 0.10129621],\n",
       "       [0.4288531 , 1.26486479]])"
      ]
     },
     "execution_count": 91,
     "metadata": {},
     "output_type": "execute_result"
    }
   ],
   "source": [
    "A['W1']"
   ]
  },
  {
   "cell_type": "code",
   "execution_count": 92,
   "id": "9b68fbff",
   "metadata": {},
   "outputs": [
    {
     "data": {
      "text/plain": [
       "0.01"
      ]
     },
     "execution_count": 92,
     "metadata": {},
     "output_type": "execute_result"
    }
   ],
   "source": [
    "lr"
   ]
  },
  {
   "cell_type": "code",
   "execution_count": 95,
   "id": "e4245e24",
   "metadata": {},
   "outputs": [
    {
     "name": "stdout",
     "output_type": "stream",
     "text": [
      "[[1.90373445 0.09828761]\n",
      " [0.41611574 1.22729704]]\n",
      "[0. 0.]\n",
      "[[-1.0681247]\n",
      " [ 2.365515 ]]\n",
      "[0.]\n"
     ]
    }
   ],
   "source": [
    "A['W1'] = A['W1'] - lr * A['W1']\n",
    "A['b1'] = A['b1'] - lr * A['b1']\n",
    "A['W2'] = A['W2'] - lr * A['W2']\n",
    "A['b2'] = A['b2'] - lr * A['b2']\n",
    "print(A['W1'])\n",
    "print(A['b1'])\n",
    "print(A['W2'])\n",
    "print(A['b2'])"
   ]
  },
  {
   "cell_type": "code",
   "execution_count": 96,
   "id": "ee5200cd",
   "metadata": {},
   "outputs": [
    {
     "data": {
      "text/plain": [
       "1.9037344467808022"
      ]
     },
     "execution_count": 96,
     "metadata": {},
     "output_type": "execute_result"
    }
   ],
   "source": [
    "A['W1'][0,0]\n",
    "# T = A['W1'] * "
   ]
  },
  {
   "cell_type": "markdown",
   "id": "63f73396",
   "metadata": {},
   "source": [
    "# 미분"
   ]
  },
  {
   "cell_type": "code",
   "execution_count": 99,
   "metadata": {},
   "outputs": [
    {
     "name": "stdout",
     "output_type": "stream",
     "text": [
      "9\n"
     ]
    }
   ],
   "source": [
    "x0 = 3\n",
    "y = x0**2\n",
    "print(y)"
   ]
  },
  {
   "cell_type": "code",
   "execution_count": 100,
   "id": "09301dd4",
   "metadata": {},
   "outputs": [
    {
     "name": "stdout",
     "output_type": "stream",
     "text": [
      "6\n"
     ]
    }
   ],
   "source": [
    "dy = 2 * x0\n",
    "print(dy)"
   ]
  },
  {
   "cell_type": "code",
   "execution_count": 101,
   "id": "aabab47f",
   "metadata": {},
   "outputs": [
    {
     "name": "stdout",
     "output_type": "stream",
     "text": [
      "0.5\n"
     ]
    }
   ],
   "source": [
    "y = 0\n",
    "z = 1 / (1 + np.exp(-y))\n",
    "print(z)"
   ]
  },
  {
   "cell_type": "code",
   "execution_count": 102,
   "id": "e3503fc0",
   "metadata": {},
   "outputs": [
    {
     "name": "stdout",
     "output_type": "stream",
     "text": [
      "0.25\n"
     ]
    }
   ],
   "source": [
    "dy = z * (1 - z)\n",
    "print(dy)"
   ]
  },
  {
   "cell_type": "code",
   "execution_count": null,
   "id": "1f05d938",
   "metadata": {},
   "outputs": [],
   "source": []
  }
 ],
 "metadata": {
  "kernelspec": {
   "display_name": "Python 3",
   "language": "python",
   "name": "python3"
  },
  "language_info": {
   "codemirror_mode": {
    "name": "ipython",
    "version": 3
   },
   "file_extension": ".py",
   "mimetype": "text/x-python",
   "name": "python",
   "nbconvert_exporter": "python",
   "pygments_lexer": "ipython3",
   "version": "3.8.10"
  }
 },
 "nbformat": 4,
 "nbformat_minor": 5
}
