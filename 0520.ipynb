{
 "cells": [
  {
   "cell_type": "code",
   "execution_count": 49,
   "id": "7f39ad8a",
   "metadata": {},
   "outputs": [],
   "source": [
    "# 0514 고박사님과 함께\n",
    "import numpy as np\n",
    "\n",
    "#아핀변환\n",
    "\n",
    "class Affine:\n",
    "    def __init__(self, W, b):\n",
    "        self.W = W\n",
    "        self.b = b\n",
    "        \n",
    "        self.x = None\n",
    "        self.original_x_shape = None\n",
    "        # 가중치와 편향 매개변수의 미분\n",
    "        self.dW = None\n",
    "        self.db = None\n",
    "\n",
    "    def forward(self, x):\n",
    "        # 텐서 대응\n",
    "        self.original_x_shape = x.shape\n",
    "        x = x.reshape(x.shape[0], -1)\n",
    "        self.x = x\n",
    "\n",
    "        out = np.dot(self.x, self.W) + self.b\n",
    "\n",
    "        return out\n",
    "\n",
    "    def backward(self, dout):\n",
    "        dx = np.dot(dout, self.W.T)\n",
    "        self.dW = np.dot(self.x.T, dout)\n",
    "        self.db = np.sum(dout, axis=0)\n",
    "        \n",
    "        dx = dx.reshape(*self.original_x_shape)  # 입력 데이터 모양 변경(텐서 대응)\n",
    "        return dx\n",
    "\n",
    "class Sigmoid :\n",
    "    def __init__(self):\n",
    "        self.x = None\n",
    "        self.y = None\n",
    "    def forward(self, y):\n",
    "        self.x = y\n",
    "        self.y = 1 / (1 + np.exp(-y))\n",
    "        return self.y\n",
    "    \n",
    "    def backward(self, dout) :\n",
    "        dx = dout * (1.0 - self.y) * self.y\n",
    "        return dx\n",
    "\n",
    "#Mse\n",
    "class MeanSquaredError:\n",
    "    def __init__(self):\n",
    "        self.loss = None  # 손실 값\n",
    "        self.y = None     # 예측값\n",
    "        self.t = None     # 정답값\n",
    "\n",
    "    def forward(self, y, t):\n",
    "        self.y = y\n",
    "        self.t = t\n",
    "        # 오차 계산\n",
    "        self.loss = 0.5 * np.mean((self.y - self.t) ** 2)\n",
    "        return self.loss\n",
    "\n",
    "    def backward(self, dout=1):\n",
    "        batch_size = self.t.shape[0]\n",
    "        dx = (self.y - self.t) * dout / batch_size\n",
    "        return dx"
   ]
  },
  {
   "cell_type": "code",
   "execution_count": 50,
   "id": "79fba1be",
   "metadata": {},
   "outputs": [
    {
     "name": "stdout",
     "output_type": "stream",
     "text": [
      "[[1 1]]\n",
      "(1, 2)\n",
      "[0]\n"
     ]
    }
   ],
   "source": [
    "z = np.array([1, 1])\n",
    "z = np.reshape(z, (1, -1))\n",
    "print(z)\n",
    "print(np.shape(z))\n",
    "\n",
    "t = np.array([0])\n",
    "print(t)"
   ]
  },
  {
   "cell_type": "code",
   "execution_count": 51,
   "id": "963602a7",
   "metadata": {},
   "outputs": [],
   "source": [
    "W = np.random.randn(2, 1)\n",
    "b = np.zeros(1,)\n",
    "affine = Affine(W,b)\n",
    "mse = MeanSquaredError()"
   ]
  },
  {
   "cell_type": "code",
   "execution_count": 52,
   "id": "dab3e996",
   "metadata": {},
   "outputs": [
    {
     "name": "stdout",
     "output_type": "stream",
     "text": [
      "[[1.04780192]]\n",
      "손실값 :  0.5489444300198707\n"
     ]
    }
   ],
   "source": [
    "out = affine.forward(z)\n",
    "print(out)\n",
    "out = mse.forward(out, t)\n",
    "print(\"손실값 : \", out)"
   ]
  },
  {
   "cell_type": "code",
   "execution_count": 53,
   "id": "69cb4898",
   "metadata": {},
   "outputs": [
    {
     "name": "stdout",
     "output_type": "stream",
     "text": [
      "mse 미분 :  [[1.04780192]]\n",
      "dx :  [[0.61527638 0.48261248]]\n"
     ]
    }
   ],
   "source": [
    "dout = np.ones(1)\n",
    "dout = mse.backward(dout)\n",
    "print(\"mse 미분 : \", dout)\n",
    "dout = affine.backward(dout)\n",
    "print(\"dx : \", dout)"
   ]
  },
  {
   "cell_type": "code",
   "execution_count": 54,
   "id": "72f0de46",
   "metadata": {},
   "outputs": [
    {
     "name": "stdout",
     "output_type": "stream",
     "text": [
      "[[1.04780192]\n",
      " [1.04780192]]\n",
      "[1.04780192]\n"
     ]
    }
   ],
   "source": [
    "print(affine.dW)\n",
    "print(affine.db)\n"
   ]
  },
  {
   "cell_type": "code",
   "execution_count": 55,
   "id": "73c9d5da",
   "metadata": {},
   "outputs": [
    {
     "name": "stdout",
     "output_type": "stream",
     "text": [
      "[[1 1]]\n",
      "[1]\n"
     ]
    }
   ],
   "source": [
    "z = np.array([1,1])\n",
    "z = np.reshape(z, (1, -1))\n",
    "t = np.array([1])\n",
    "print(z)\n",
    "print(t)"
   ]
  },
  {
   "cell_type": "code",
   "execution_count": 56,
   "id": "0f344829",
   "metadata": {},
   "outputs": [
    {
     "name": "stdout",
     "output_type": "stream",
     "text": [
      "1번째 선형변환 가중치 행렬 : \n",
      " [[-0.06368479  0.7776441 ]\n",
      " [-0.925074    0.29076634]]\n",
      "1번째 선형변환 절편 벡터 : \n",
      " [0. 0.]\n",
      "2번째 선형변환 가중치 행렬 : \n",
      " [[-0.5003567 ]\n",
      " [ 0.88822739]]\n",
      "2번째 선형변환 절편 벡터 : \n",
      " [0.]\n"
     ]
    }
   ],
   "source": [
    "W1 = np.random.randn(2,2)\n",
    "b1 = np.zeros(2,)\n",
    "affine1 = Affine(W1, b1)\n",
    "\n",
    "W2 = np.random.randn(2,1)\n",
    "b2 = np.zeros(1,)\n",
    "affine2 = Affine(W2, b2)\n",
    "\n",
    "print(\"1번째 선형변환 가중치 행렬 : \\n\", affine1.W)\n",
    "print(\"1번째 선형변환 절편 벡터 : \\n\", affine1.b)\n",
    "\n",
    "print(\"2번째 선형변환 가중치 행렬 : \\n\", affine2.W)\n",
    "print(\"2번째 선형변환 절편 벡터 : \\n\", affine2.b)\n",
    "\n",
    "mse = MeanSquaredError()"
   ]
  },
  {
   "cell_type": "code",
   "execution_count": 57,
   "id": "d3dd9bb6",
   "metadata": {},
   "outputs": [
    {
     "name": "stdout",
     "output_type": "stream",
     "text": [
      "1번째 선형변환 결과 : \n",
      " [[-0.98875879  1.06841044]]\n",
      "1번째 선형변환 결과 모양 : \n",
      " (1, 2)\n"
     ]
    }
   ],
   "source": [
    "y1 = affine1.forward(z)\n",
    "print(\"1번째 선형변환 결과 : \\n\", y1)\n",
    "print(\"1번째 선형변환 결과 모양 : \\n\", np.shape(y1))"
   ]
  },
  {
   "cell_type": "code",
   "execution_count": 58,
   "id": "4dc66dc4",
   "metadata": {},
   "outputs": [
    {
     "name": "stdout",
     "output_type": "stream",
     "text": [
      "2번째 선형변환 결과 : \n",
      " [[1.4437235]]\n",
      "2번째 선형변환 결과 모양 : \n",
      " (1, 1)\n"
     ]
    }
   ],
   "source": [
    "y2 = affine2.forward(y1)\n",
    "print(\"2번째 선형변환 결과 : \\n\", y2)\n",
    "print(\"2번째 선형변환 결과 모양 : \\n\", np.shape(y2))"
   ]
  },
  {
   "cell_type": "code",
   "execution_count": 59,
   "id": "a2ac550b",
   "metadata": {},
   "outputs": [
    {
     "name": "stdout",
     "output_type": "stream",
     "text": [
      "손실값 :  0.09844527267050193\n"
     ]
    }
   ],
   "source": [
    "loss = mse.forward(y2, t)\n",
    "print(\"손실값 : \", loss)"
   ]
  },
  {
   "cell_type": "code",
   "execution_count": 61,
   "id": "bb375721",
   "metadata": {},
   "outputs": [
    {
     "name": "stdout",
     "output_type": "stream",
     "text": [
      "mse 에 대한 미분 :  [[0.4437235]]\n"
     ]
    }
   ],
   "source": [
    "dout = np.ones(1,)\n",
    "dout = mse.backward(dout)\n",
    "print(\"mse 에 대한 미분 : \", dout)"
   ]
  },
  {
   "cell_type": "code",
   "execution_count": 62,
   "id": "b628237a",
   "metadata": {},
   "outputs": [
    {
     "name": "stdout",
     "output_type": "stream",
     "text": [
      "2번째 선형변환에 대한 미분 :  [[-0.22202003  0.39412737]]\n"
     ]
    }
   ],
   "source": [
    "dout = affine2.backward(dout)\n",
    "print(\"2번째 선형변환에 대한 미분 : \", dout)"
   ]
  },
  {
   "cell_type": "code",
   "execution_count": 63,
   "id": "1833b834",
   "metadata": {},
   "outputs": [
    {
     "name": "stdout",
     "output_type": "stream",
     "text": [
      "[[-0.43873551]\n",
      " [ 0.47407882]]\n",
      "[0.4437235]\n"
     ]
    }
   ],
   "source": [
    "print(affine2.dW)\n",
    "print(affine2.db)"
   ]
  },
  {
   "cell_type": "code",
   "execution_count": 64,
   "id": "9a7b9730",
   "metadata": {},
   "outputs": [
    {
     "name": "stdout",
     "output_type": "stream",
     "text": [
      "[[-0.22202003  0.39412737]\n",
      " [-0.22202003  0.39412737]]\n",
      "[-0.22202003  0.39412737]\n"
     ]
    }
   ],
   "source": [
    "dout = affine1.backward(dout)\n",
    "print(affine1.dW)\n",
    "print(affine1.db)"
   ]
  },
  {
   "cell_type": "code",
   "execution_count": 69,
   "id": "2b5f11e3",
   "metadata": {},
   "outputs": [
    {
     "name": "stdout",
     "output_type": "stream",
     "text": [
      "0 모델 예측값 :  [[1.]]\n",
      "0 손실값 :  0.0\n",
      "1 모델 예측값 :  [[1.]]\n",
      "1 손실값 :  0.0\n",
      "2 모델 예측값 :  [[1.]]\n",
      "2 손실값 :  0.0\n",
      "3 모델 예측값 :  [[1.]]\n",
      "3 손실값 :  0.0\n",
      "4 모델 예측값 :  [[1.]]\n",
      "4 손실값 :  0.0\n",
      "5 모델 예측값 :  [[1.]]\n",
      "5 손실값 :  0.0\n",
      "6 모델 예측값 :  [[1.]]\n",
      "6 손실값 :  0.0\n",
      "7 모델 예측값 :  [[1.]]\n",
      "7 손실값 :  0.0\n",
      "8 모델 예측값 :  [[1.]]\n",
      "8 손실값 :  0.0\n",
      "9 모델 예측값 :  [[1.]]\n",
      "9 손실값 :  0.0\n",
      "10 모델 예측값 :  [[1.]]\n",
      "10 손실값 :  0.0\n",
      "11 모델 예측값 :  [[1.]]\n",
      "11 손실값 :  0.0\n",
      "12 모델 예측값 :  [[1.]]\n",
      "12 손실값 :  0.0\n",
      "13 모델 예측값 :  [[1.]]\n",
      "13 손실값 :  0.0\n",
      "14 모델 예측값 :  [[1.]]\n",
      "14 손실값 :  0.0\n",
      "15 모델 예측값 :  [[1.]]\n",
      "15 손실값 :  0.0\n",
      "16 모델 예측값 :  [[1.]]\n",
      "16 손실값 :  0.0\n",
      "17 모델 예측값 :  [[1.]]\n",
      "17 손실값 :  0.0\n",
      "18 모델 예측값 :  [[1.]]\n",
      "18 손실값 :  0.0\n",
      "19 모델 예측값 :  [[1.]]\n",
      "19 손실값 :  0.0\n",
      "20 모델 예측값 :  [[1.]]\n",
      "20 손실값 :  0.0\n",
      "21 모델 예측값 :  [[1.]]\n",
      "21 손실값 :  0.0\n",
      "22 모델 예측값 :  [[1.]]\n",
      "22 손실값 :  0.0\n",
      "23 모델 예측값 :  [[1.]]\n",
      "23 손실값 :  0.0\n",
      "24 모델 예측값 :  [[1.]]\n",
      "24 손실값 :  0.0\n",
      "25 모델 예측값 :  [[1.]]\n",
      "25 손실값 :  0.0\n",
      "26 모델 예측값 :  [[1.]]\n",
      "26 손실값 :  0.0\n",
      "27 모델 예측값 :  [[1.]]\n",
      "27 손실값 :  0.0\n",
      "28 모델 예측값 :  [[1.]]\n",
      "28 손실값 :  0.0\n",
      "29 모델 예측값 :  [[1.]]\n",
      "29 손실값 :  0.0\n",
      "30 모델 예측값 :  [[1.]]\n",
      "30 손실값 :  0.0\n",
      "31 모델 예측값 :  [[1.]]\n",
      "31 손실값 :  0.0\n",
      "32 모델 예측값 :  [[1.]]\n",
      "32 손실값 :  0.0\n",
      "33 모델 예측값 :  [[1.]]\n",
      "33 손실값 :  0.0\n",
      "34 모델 예측값 :  [[1.]]\n",
      "34 손실값 :  0.0\n",
      "35 모델 예측값 :  [[1.]]\n",
      "35 손실값 :  0.0\n",
      "36 모델 예측값 :  [[1.]]\n",
      "36 손실값 :  0.0\n",
      "37 모델 예측값 :  [[1.]]\n",
      "37 손실값 :  0.0\n",
      "38 모델 예측값 :  [[1.]]\n",
      "38 손실값 :  0.0\n",
      "39 모델 예측값 :  [[1.]]\n",
      "39 손실값 :  0.0\n",
      "40 모델 예측값 :  [[1.]]\n",
      "40 손실값 :  0.0\n",
      "41 모델 예측값 :  [[1.]]\n",
      "41 손실값 :  0.0\n",
      "42 모델 예측값 :  [[1.]]\n",
      "42 손실값 :  0.0\n",
      "43 모델 예측값 :  [[1.]]\n",
      "43 손실값 :  0.0\n",
      "44 모델 예측값 :  [[1.]]\n",
      "44 손실값 :  0.0\n",
      "45 모델 예측값 :  [[1.]]\n",
      "45 손실값 :  0.0\n",
      "46 모델 예측값 :  [[1.]]\n",
      "46 손실값 :  0.0\n",
      "47 모델 예측값 :  [[1.]]\n",
      "47 손실값 :  0.0\n",
      "48 모델 예측값 :  [[1.]]\n",
      "48 손실값 :  0.0\n",
      "49 모델 예측값 :  [[1.]]\n",
      "49 손실값 :  0.0\n",
      "50 모델 예측값 :  [[1.]]\n",
      "50 손실값 :  0.0\n",
      "51 모델 예측값 :  [[1.]]\n",
      "51 손실값 :  0.0\n",
      "52 모델 예측값 :  [[1.]]\n",
      "52 손실값 :  0.0\n",
      "53 모델 예측값 :  [[1.]]\n",
      "53 손실값 :  0.0\n",
      "54 모델 예측값 :  [[1.]]\n",
      "54 손실값 :  0.0\n",
      "55 모델 예측값 :  [[1.]]\n",
      "55 손실값 :  0.0\n",
      "56 모델 예측값 :  [[1.]]\n",
      "56 손실값 :  0.0\n",
      "57 모델 예측값 :  [[1.]]\n",
      "57 손실값 :  0.0\n",
      "58 모델 예측값 :  [[1.]]\n",
      "58 손실값 :  0.0\n",
      "59 모델 예측값 :  [[1.]]\n",
      "59 손실값 :  0.0\n",
      "60 모델 예측값 :  [[1.]]\n",
      "60 손실값 :  0.0\n",
      "61 모델 예측값 :  [[1.]]\n",
      "61 손실값 :  0.0\n",
      "62 모델 예측값 :  [[1.]]\n",
      "62 손실값 :  0.0\n",
      "63 모델 예측값 :  [[1.]]\n",
      "63 손실값 :  0.0\n",
      "64 모델 예측값 :  [[1.]]\n",
      "64 손실값 :  0.0\n",
      "65 모델 예측값 :  [[1.]]\n",
      "65 손실값 :  0.0\n",
      "66 모델 예측값 :  [[1.]]\n",
      "66 손실값 :  0.0\n",
      "67 모델 예측값 :  [[1.]]\n",
      "67 손실값 :  0.0\n",
      "68 모델 예측값 :  [[1.]]\n",
      "68 손실값 :  0.0\n",
      "69 모델 예측값 :  [[1.]]\n",
      "69 손실값 :  0.0\n",
      "70 모델 예측값 :  [[1.]]\n",
      "70 손실값 :  0.0\n",
      "71 모델 예측값 :  [[1.]]\n",
      "71 손실값 :  0.0\n",
      "72 모델 예측값 :  [[1.]]\n",
      "72 손실값 :  0.0\n",
      "73 모델 예측값 :  [[1.]]\n",
      "73 손실값 :  0.0\n",
      "74 모델 예측값 :  [[1.]]\n",
      "74 손실값 :  0.0\n",
      "75 모델 예측값 :  [[1.]]\n",
      "75 손실값 :  0.0\n",
      "76 모델 예측값 :  [[1.]]\n",
      "76 손실값 :  0.0\n",
      "77 모델 예측값 :  [[1.]]\n",
      "77 손실값 :  0.0\n",
      "78 모델 예측값 :  [[1.]]\n",
      "78 손실값 :  0.0\n",
      "79 모델 예측값 :  [[1.]]\n",
      "79 손실값 :  0.0\n",
      "80 모델 예측값 :  [[1.]]\n",
      "80 손실값 :  0.0\n",
      "81 모델 예측값 :  [[1.]]\n",
      "81 손실값 :  0.0\n",
      "82 모델 예측값 :  [[1.]]\n",
      "82 손실값 :  0.0\n",
      "83 모델 예측값 :  [[1.]]\n",
      "83 손실값 :  0.0\n",
      "84 모델 예측값 :  [[1.]]\n",
      "84 손실값 :  0.0\n",
      "85 모델 예측값 :  [[1.]]\n",
      "85 손실값 :  0.0\n",
      "86 모델 예측값 :  [[1.]]\n",
      "86 손실값 :  0.0\n",
      "87 모델 예측값 :  [[1.]]\n",
      "87 손실값 :  0.0\n",
      "88 모델 예측값 :  [[1.]]\n",
      "88 손실값 :  0.0\n",
      "89 모델 예측값 :  [[1.]]\n",
      "89 손실값 :  0.0\n",
      "90 모델 예측값 :  [[1.]]\n",
      "90 손실값 :  0.0\n",
      "91 모델 예측값 :  [[1.]]\n",
      "91 손실값 :  0.0\n",
      "92 모델 예측값 :  [[1.]]\n",
      "92 손실값 :  0.0\n",
      "93 모델 예측값 :  [[1.]]\n",
      "93 손실값 :  0.0\n",
      "94 모델 예측값 :  [[1.]]\n",
      "94 손실값 :  0.0\n",
      "95 모델 예측값 :  [[1.]]\n",
      "95 손실값 :  0.0\n",
      "96 모델 예측값 :  [[1.]]\n",
      "96 손실값 :  0.0\n",
      "97 모델 예측값 :  [[1.]]\n",
      "97 손실값 :  0.0\n",
      "98 모델 예측값 :  [[1.]]\n",
      "98 손실값 :  0.0\n",
      "99 모델 예측값 :  [[1.]]\n",
      "99 손실값 :  0.0\n"
     ]
    }
   ],
   "source": [
    "lr = 0.01\n",
    "for i in range(100):\n",
    "    # 전파파\n",
    "    y1 = affine1.forward(z)\n",
    "    y2 = affine2.forward(y1)\n",
    "    print(i, \"모델 예측값 : \", np.round(y2, 3))\n",
    "    loss = mse.forward(y2, t)\n",
    "    print(i, \"손실값 : \", np.round(loss, 3))\n",
    "\n",
    "    # 역전파\n",
    "    dout = np.ones(1,)\n",
    "    dout = mse.backward(dout)\n",
    "    dout = affine2.backward(dout)\n",
    "    dout = affine1.backward(dout)\n",
    "\n",
    "    # 경사하강법\n",
    "    affine1.W = affine1.W - lr * affine1.dW\n",
    "    affine1.b = affine1.b - lr * affine1.db\n",
    "    affine2.W = affine2.W - lr * affine2.dW\n",
    "    affine2.b = affine2.b - lr * affine2.db\n",
    "    '''\n",
    "    print(\"W1 : \", affine1.W)\n",
    "    print(\"b1 : \", affine1.b)\n",
    "    print(\"W2 : \", affine2.W)\n",
    "    print(\"b2 : \", affine2.b)\n",
    "    print(\"손실값 : \", loss)\n",
    "    '''"
   ]
  }
 ],
 "metadata": {
  "kernelspec": {
   "display_name": "base",
   "language": "python",
   "name": "python3"
  },
  "language_info": {
   "codemirror_mode": {
    "name": "ipython",
    "version": 3
   },
   "file_extension": ".py",
   "mimetype": "text/x-python",
   "name": "python",
   "nbconvert_exporter": "python",
   "pygments_lexer": "ipython3",
   "version": "3.12.7"
  }
 },
 "nbformat": 4,
 "nbformat_minor": 5
}
